{
 "cells": [
  {
   "cell_type": "code",
   "execution_count": 39,
   "id": "d74057dd-a758-4c7d-a3e8-dd8abbc03e8a",
   "metadata": {},
   "outputs": [],
   "source": [
    "import pandas as pd\n",
    "import numpy as np\n",
    "import seaborn as sns\n",
    "import matplotlib.pyplot as plt\n",
    "import sklearn.metrics as mt\n",
    "from sklearn import preprocessing\n",
    "from sklearn.metrics import confusion_matrix as cm"
   ]
  },
  {
   "cell_type": "code",
   "execution_count": 2,
   "id": "ac28a0cb-84a2-4f5d-a376-d6dd246eb584",
   "metadata": {},
   "outputs": [],
   "source": [
    "df_train = pd.read_csv(\"C:/Users/Zehra/Desktop/Python-SQL/train.csv\")\n",
    "df_test = pd.read_csv(\"C:/Users/Zehra/Desktop/Python-SQL/test.csv\")"
   ]
  },
  {
   "cell_type": "code",
   "execution_count": 3,
   "id": "e8de8685-f53f-40c6-af1c-d73ea768c6e3",
   "metadata": {},
   "outputs": [],
   "source": [
    "df = pd.concat([df_train, df_test], axis = 0)"
   ]
  },
  {
   "cell_type": "code",
   "execution_count": 4,
   "id": "3c210acd-c4d8-4356-94e6-4c56cb577f15",
   "metadata": {},
   "outputs": [
    {
     "name": "stdout",
     "output_type": "stream",
     "text": [
      "<class 'pandas.core.frame.DataFrame'>\n",
      "Int64Index: 1309 entries, 0 to 417\n",
      "Data columns (total 12 columns):\n",
      " #   Column       Non-Null Count  Dtype  \n",
      "---  ------       --------------  -----  \n",
      " 0   PassengerId  1309 non-null   int64  \n",
      " 1   Survived     891 non-null    float64\n",
      " 2   Pclass       1309 non-null   int64  \n",
      " 3   Name         1309 non-null   object \n",
      " 4   Sex          1309 non-null   object \n",
      " 5   Age          1046 non-null   float64\n",
      " 6   SibSp        1309 non-null   int64  \n",
      " 7   Parch        1309 non-null   int64  \n",
      " 8   Ticket       1309 non-null   object \n",
      " 9   Fare         1308 non-null   float64\n",
      " 10  Cabin        295 non-null    object \n",
      " 11  Embarked     1307 non-null   object \n",
      "dtypes: float64(3), int64(4), object(5)\n",
      "memory usage: 132.9+ KB\n"
     ]
    }
   ],
   "source": [
    "df.info()"
   ]
  },
  {
   "cell_type": "code",
   "execution_count": 5,
   "id": "72bed017-4dfa-4efa-a342-afd5c9221ee3",
   "metadata": {},
   "outputs": [],
   "source": [
    "df.Pclass = df.Pclass.astype(\"category\")"
   ]
  },
  {
   "cell_type": "code",
   "execution_count": 6,
   "id": "d3d5ec66-6b8d-4464-af19-f8bf8acab257",
   "metadata": {},
   "outputs": [
    {
     "data": {
      "text/plain": [
       "PassengerId       0\n",
       "Survived        418\n",
       "Pclass            0\n",
       "Name              0\n",
       "Sex               0\n",
       "Age             263\n",
       "SibSp             0\n",
       "Parch             0\n",
       "Ticket            0\n",
       "Fare              1\n",
       "Cabin          1014\n",
       "Embarked          2\n",
       "dtype: int64"
      ]
     },
     "execution_count": 6,
     "metadata": {},
     "output_type": "execute_result"
    }
   ],
   "source": [
    "df.isnull().sum()"
   ]
  },
  {
   "cell_type": "code",
   "execution_count": 7,
   "id": "ea1a152a-fe23-4662-a49b-6916ea587f79",
   "metadata": {},
   "outputs": [],
   "source": [
    "df[\"Age\"].fillna(df.groupby(\"Sex\")\n",
    "                [\"Age\"].transform(\"mean\"), inplace=True)"
   ]
  },
  {
   "cell_type": "code",
   "execution_count": 8,
   "id": "ab4c982f-f120-4c31-a889-28b2db316bda",
   "metadata": {},
   "outputs": [],
   "source": [
    "df.Cabin =df.Cabin.fillna(0)\n",
    "df.Fare =df.Fare.fillna(0)\n",
    "df.Embarked =df.Embarked.fillna(0)"
   ]
  },
  {
   "cell_type": "code",
   "execution_count": 9,
   "id": "a63f685d-89f9-49d2-b544-93097b7ffd05",
   "metadata": {},
   "outputs": [],
   "source": [
    "df['Sex'] = df['Sex'].replace('male',1)\n",
    "df['Sex'] = df['Sex'].replace('female',0)"
   ]
  },
  {
   "cell_type": "code",
   "execution_count": 10,
   "id": "85ce8534-bd5a-4903-99bd-9c364d066dbf",
   "metadata": {},
   "outputs": [],
   "source": [
    "df.loc[ df['Age'] <= 16, 'Age']= 0\n",
    "df.loc[(df['Age'] > 16) & (df['Age'] <= 32), 'Age']= 1\n",
    "df.loc[(df['Age'] > 32) & (df['Age'] <= 48), 'Age']= 2\n",
    "df.loc[(df['Age'] > 48) & (df['Age'] <= 64), 'Age']= 3\n",
    "df.loc[ df['Age'] > 64, 'Age']= 4"
   ]
  },
  {
   "cell_type": "code",
   "execution_count": 11,
   "id": "41cd83ca-a746-4870-9d3a-c24450ce1db2",
   "metadata": {},
   "outputs": [],
   "source": [
    "df.loc[df.Cabin.str[0]==\"A\", \"Cabin\"] = 1\n",
    "df.loc[df.Cabin.str[0]==\"B\", \"Cabin\"] = 2\n",
    "df.loc[df.Cabin.str[0]==\"C\", \"Cabin\"] = 3\n",
    "df.loc[df.Cabin.str[0]==\"D\", \"Cabin\"] = 4\n",
    "df.loc[df.Cabin.str[0]==\"E\", \"Cabin\"] = 5\n",
    "df.loc[df.Cabin.str[0]==\"F\", \"Cabin\"] = 6\n",
    "df.loc[df.Cabin.str[0]==\"G\", \"Cabin\"] = 7\n",
    "df.loc[df.Cabin.str[0]==\"T\", \"Cabin\"] = 8"
   ]
  },
  {
   "cell_type": "code",
   "execution_count": 12,
   "id": "b660d268-41ab-4e80-9ab8-6d22012632c3",
   "metadata": {},
   "outputs": [],
   "source": [
    "df.loc[df_train.Embarked.str[0]==\"S\", \"Embarked\"] = 1\n",
    "df.loc[df_train.Embarked.str[0]==\"Q\", \"Embarked\"] = 2\n",
    "df.loc[df_train.Embarked.str[0]==\"C\", \"Embarked\"] = 3"
   ]
  },
  {
   "cell_type": "code",
   "execution_count": 13,
   "id": "dac8a9d6-c6e7-42ca-a899-7d63a34cc665",
   "metadata": {},
   "outputs": [
    {
     "data": {
      "text/plain": [
       "0                                Braund, Mr. Owen Harris\n",
       "1      Cumings, Mrs. John Bradley (Florence Briggs Th...\n",
       "2                                 Heikkinen, Miss. Laina\n",
       "3           Futrelle, Mrs. Jacques Heath (Lily May Peel)\n",
       "4                               Allen, Mr. William Henry\n",
       "                             ...                        \n",
       "886                                Montvila, Rev. Juozas\n",
       "887                         Graham, Miss. Margaret Edith\n",
       "888             Johnston, Miss. Catherine Helen \"Carrie\"\n",
       "889                                Behr, Mr. Karl Howell\n",
       "890                                  Dooley, Mr. Patrick\n",
       "Name: Name, Length: 891, dtype: object"
      ]
     },
     "execution_count": 13,
     "metadata": {},
     "output_type": "execute_result"
    }
   ],
   "source": [
    "df_train[\"Name\"]"
   ]
  },
  {
   "cell_type": "code",
   "execution_count": 14,
   "id": "f2dbc311-71fd-42f1-a277-fb3d6abc8d43",
   "metadata": {},
   "outputs": [],
   "source": [
    "df[\"Title\"] = [i.split(\",\")[1].split(\".\")[0].strip() for i in df[\"Name\"]]"
   ]
  },
  {
   "cell_type": "code",
   "execution_count": 15,
   "id": "0363e6c5-768d-4543-9d7a-6c4053818424",
   "metadata": {
    "collapsed": true,
    "jupyter": {
     "outputs_hidden": true
    },
    "tags": []
   },
   "outputs": [
    {
     "data": {
      "text/plain": [
       "0          Mr\n",
       "1         Mrs\n",
       "2        Miss\n",
       "3         Mrs\n",
       "4          Mr\n",
       "        ...  \n",
       "413        Mr\n",
       "414      Dona\n",
       "415        Mr\n",
       "416        Mr\n",
       "417    Master\n",
       "Name: Title, Length: 1309, dtype: object"
      ]
     },
     "execution_count": 15,
     "metadata": {},
     "output_type": "execute_result"
    }
   ],
   "source": [
    "df[\"Title\"]"
   ]
  },
  {
   "cell_type": "code",
   "execution_count": 16,
   "id": "949a2afe-eb74-40b3-b279-074271573349",
   "metadata": {},
   "outputs": [],
   "source": [
    "df['Title'] = df['Title'].replace(['Lady','the Countess' ,'Countess','Capt', 'Col', 'Don', 'Dr', 'Major', 'Rev', 'Sir', 'Jonkheer', 'Dona'], 'Rare')\n",
    "\n",
    "df['Title'] = df['Title'].replace('Mlle', 'Miss')\n",
    "df['Title'] = df['Title'].replace('Ms', 'Miss')\n",
    "df['Title'] = df['Title'].replace('Mme', 'Mrs')"
   ]
  },
  {
   "cell_type": "code",
   "execution_count": 17,
   "id": "73aa4865-65b3-4924-b8e8-846352cba7a8",
   "metadata": {},
   "outputs": [],
   "source": [
    "le = preprocessing.LabelEncoder()\n",
    "df['Title'] = le.fit_transform(df['Title'])"
   ]
  },
  {
   "cell_type": "code",
   "execution_count": 18,
   "id": "665b301d-8d77-4ec4-a64b-0eb270e434be",
   "metadata": {
    "collapsed": true,
    "jupyter": {
     "outputs_hidden": true
    },
    "tags": []
   },
   "outputs": [
    {
     "data": {
      "text/plain": [
       "0      2\n",
       "1      3\n",
       "2      1\n",
       "3      3\n",
       "4      2\n",
       "      ..\n",
       "413    2\n",
       "414    4\n",
       "415    2\n",
       "416    2\n",
       "417    0\n",
       "Name: Title, Length: 1309, dtype: int32"
      ]
     },
     "execution_count": 18,
     "metadata": {},
     "output_type": "execute_result"
    }
   ],
   "source": [
    "df[\"Title\"]"
   ]
  },
  {
   "cell_type": "code",
   "execution_count": null,
   "id": "f39ab5be-744f-4424-ac96-80b64ebd2c85",
   "metadata": {},
   "outputs": [],
   "source": [
    "#Random Forest Classifier"
   ]
  },
  {
   "cell_type": "code",
   "execution_count": 19,
   "id": "2a42b33d-0e38-492b-a304-cf3579927023",
   "metadata": {},
   "outputs": [],
   "source": [
    "y =df.Survived[0:891]"
   ]
  },
  {
   "cell_type": "code",
   "execution_count": 20,
   "id": "9f954b55-5630-49b2-b3ec-d126ff43ad8b",
   "metadata": {},
   "outputs": [],
   "source": [
    "df.drop([\"PassengerId\", \"Survived\", \"Name\", \"Ticket\"],axis=1,inplace=True)"
   ]
  },
  {
   "cell_type": "code",
   "execution_count": 21,
   "id": "d0aee0cc-8248-4c69-b7d9-932136f5e498",
   "metadata": {},
   "outputs": [],
   "source": [
    "df_train = df[0:891]\n",
    "df_test= df[891:]"
   ]
  },
  {
   "cell_type": "code",
   "execution_count": 22,
   "id": "813c8103-b7bd-4299-8ba2-197fb941ac30",
   "metadata": {},
   "outputs": [],
   "source": [
    "from sklearn.model_selection  import train_test_split\n",
    "x_train, x_test ,y_train, y_test = train_test_split(df_train ,y , test_size = 0.33 , random_state = 0)"
   ]
  },
  {
   "cell_type": "code",
   "execution_count": 23,
   "id": "8dddde1f-1110-4e77-bfb1-12090ec7d135",
   "metadata": {},
   "outputs": [],
   "source": [
    "from sklearn.ensemble import RandomForestClassifier"
   ]
  },
  {
   "cell_type": "code",
   "execution_count": 24,
   "id": "3d5dae72-0206-4dde-aa2c-861d36c4900f",
   "metadata": {},
   "outputs": [
    {
     "data": {
      "text/plain": [
       "RandomForestClassifier()"
      ]
     },
     "execution_count": 24,
     "metadata": {},
     "output_type": "execute_result"
    }
   ],
   "source": [
    "R_F = RandomForestClassifier()\n",
    "R_F.fit(x_train, y_train)"
   ]
  },
  {
   "cell_type": "code",
   "execution_count": 25,
   "id": "f8996f06-a32f-405b-8115-cd01b0310d73",
   "metadata": {},
   "outputs": [
    {
     "name": "stdout",
     "output_type": "stream",
     "text": [
      "Random Forest R2\n",
      "[[165  19]\n",
      " [ 25  86]]\n"
     ]
    }
   ],
   "source": [
    "y_pred=R_F.predict(x_test)\n",
    "print(\"Random Forest R2\")\n",
    "print (confusion_matrix(y_test, y_pred))"
   ]
  },
  {
   "cell_type": "code",
   "execution_count": null,
   "id": "78b175e2-858c-4a54-81f4-5b0b787c2066",
   "metadata": {},
   "outputs": [],
   "source": []
  },
  {
   "cell_type": "code",
   "execution_count": 28,
   "id": "54f219e0-4450-4370-98bb-3a98e50759bd",
   "metadata": {},
   "outputs": [],
   "source": [
    "from sklearn.metrics import accuracy_score "
   ]
  },
  {
   "cell_type": "code",
   "execution_count": 43,
   "id": "55252550-dcf9-404e-a369-daa8a8e9faf9",
   "metadata": {},
   "outputs": [
    {
     "name": "stdout",
     "output_type": "stream",
     "text": [
      "0.8508474576271187\n"
     ]
    }
   ],
   "source": [
    "print(mt.accuracy_score(y_test, y_pred))"
   ]
  },
  {
   "cell_type": "code",
   "execution_count": 44,
   "id": "6848d443-da3e-4919-9ee5-3a3af728a44f",
   "metadata": {},
   "outputs": [
    {
     "name": "stdout",
     "output_type": "stream",
     "text": [
      "              precision    recall  f1-score   support\n",
      "\n",
      "       <=50K       0.87      0.90      0.88       184\n",
      "        >50K       0.82      0.77      0.80       111\n",
      "\n",
      "    accuracy                           0.85       295\n",
      "   macro avg       0.84      0.84      0.84       295\n",
      "weighted avg       0.85      0.85      0.85       295\n",
      "\n"
     ]
    }
   ],
   "source": [
    "from sklearn.metrics import classification_report\n",
    "print(classification_report(y_test, predictions, target_names=['<=50K', '>50K']))"
   ]
  },
  {
   "cell_type": "code",
   "execution_count": null,
   "id": "9b8eb160-2cd5-4a16-bb94-6e5be55079ee",
   "metadata": {},
   "outputs": [],
   "source": []
  },
  {
   "cell_type": "code",
   "execution_count": 42,
   "id": "af9edecc-6ba4-4328-88f5-3c20987ea793",
   "metadata": {},
   "outputs": [
    {
     "name": "stdout",
     "output_type": "stream",
     "text": [
      "0.8508474576271187\n"
     ]
    }
   ],
   "source": [
    "print(mt.accuracy_score(y_test, y_pred))"
   ]
  },
  {
   "cell_type": "code",
   "execution_count": null,
   "id": "0a81fdef-3c85-4db3-920b-fca5e36f0a42",
   "metadata": {},
   "outputs": [],
   "source": []
  }
 ],
 "metadata": {
  "kernelspec": {
   "display_name": "Python 3",
   "language": "python",
   "name": "python3"
  },
  "language_info": {
   "codemirror_mode": {
    "name": "ipython",
    "version": 3
   },
   "file_extension": ".py",
   "mimetype": "text/x-python",
   "name": "python",
   "nbconvert_exporter": "python",
   "pygments_lexer": "ipython3",
   "version": "3.8.8"
  }
 },
 "nbformat": 4,
 "nbformat_minor": 5
}
