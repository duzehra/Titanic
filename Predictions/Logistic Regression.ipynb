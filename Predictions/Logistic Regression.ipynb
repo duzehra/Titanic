{
 "cells": [
  {
   "cell_type": "code",
   "execution_count": 30,
   "id": "20b5811a-7fa3-4920-9c26-96a43dfbc63d",
   "metadata": {},
   "outputs": [],
   "source": [
    "import os\n",
    "import pandas as pd\n",
    "import numpy as np\n",
    "import seaborn as sns\n",
    "import matplotlib.pyplot as plt\n",
    "from sklearn import preprocessing\n",
    "from sklearn.metrics import confusion_matrix"
   ]
  },
  {
   "cell_type": "code",
   "execution_count": 31,
   "id": "9afa9498-7c32-4c42-9f1f-12ecf7fa0070",
   "metadata": {},
   "outputs": [],
   "source": [
    "df= pd.read_csv(\"C:/Users/Zehra/Desktop/Python-SQL/titanic.csv\")"
   ]
  },
  {
   "cell_type": "code",
   "execution_count": 32,
   "id": "366f97c3-7b1d-47e6-b7ec-4abf51a422f2",
   "metadata": {
    "tags": []
   },
   "outputs": [
    {
     "data": {
      "text/plain": [
       "pclass          1\n",
       "survived        1\n",
       "name            1\n",
       "sex             1\n",
       "age           264\n",
       "sibsp           1\n",
       "parch           1\n",
       "ticket          1\n",
       "fare            2\n",
       "cabin        1015\n",
       "embarked        3\n",
       "boat          824\n",
       "body         1189\n",
       "home.dest     565\n",
       "dtype: int64"
      ]
     },
     "execution_count": 32,
     "metadata": {},
     "output_type": "execute_result"
    }
   ],
   "source": [
    "df.isnull().sum()"
   ]
  },
  {
   "cell_type": "code",
   "execution_count": 33,
   "id": "c9f7d747-5ed0-415a-9631-9f73af15c63f",
   "metadata": {},
   "outputs": [
    {
     "data": {
      "text/plain": [
       "<AxesSubplot:>"
      ]
     },
     "execution_count": 33,
     "metadata": {},
     "output_type": "execute_result"
    },
    {
     "data": {
      "image/png": "[encoded data removed]",
      "text/plain": [
       "<Figure size 432x288 with 2 Axes>"
      ]
     },
     "metadata": {
      "needs_background": "light"
     },
     "output_type": "display_data"
    }
   ],
   "source": [
    "sns.heatmap(df.isnull(), yticklabels=False, cmap=\"viridis\")"
   ]
  },
  {
   "cell_type": "code",
   "execution_count": 34,
   "id": "f85d9cb2-81d6-4fa2-a3e8-216a4bd4a848",
   "metadata": {},
   "outputs": [],
   "source": [
    "df.drop([\"cabin\", \"boat\", \"body\", \"home.dest\"], axis=1, inplace=True)"
   ]
  },
  {
   "cell_type": "code",
   "execution_count": 35,
   "id": "b830177f-93f0-45ff-a990-2f3766de17d9",
   "metadata": {},
   "outputs": [],
   "source": [
    "df.dropna(inplace=True)"
   ]
  },
  {
   "cell_type": "code",
   "execution_count": 36,
   "id": "eb240914-a47f-4ef8-af3c-bc970c841447",
   "metadata": {
    "tags": []
   },
   "outputs": [
    {
     "data": {
      "text/plain": [
       "pclass      float64\n",
       "survived    float64\n",
       "name         object\n",
       "sex          object\n",
       "age         float64\n",
       "sibsp       float64\n",
       "parch       float64\n",
       "ticket       object\n",
       "fare        float64\n",
       "embarked     object\n",
       "dtype: object"
      ]
     },
     "execution_count": 36,
     "metadata": {},
     "output_type": "execute_result"
    }
   ],
   "source": [
    "df.dtypes"
   ]
  },
  {
   "cell_type": "code",
   "execution_count": 37,
   "id": "b83c1f20-825e-48c0-9bb5-56ccdb676b73",
   "metadata": {},
   "outputs": [],
   "source": [
    "sex = pd.get_dummies(df[\"sex\"], drop_first = True)\n",
    "pclass = pd.get_dummies(df[\"pclass\"], drop_first = True)\n",
    "embarked = pd.get_dummies(df[\"embarked\"], drop_first = True)"
   ]
  },
  {
   "cell_type": "code",
   "execution_count": 38,
   "id": "c9caf05e-cc5e-4a16-9ed5-605367629522",
   "metadata": {},
   "outputs": [],
   "source": [
    "df.drop([\"sex\", \"embarked\",\"pclass\"], axis=1, inplace=True)"
   ]
  },
  {
   "cell_type": "code",
   "execution_count": 39,
   "id": "17037d60-7335-46c9-98cd-d417489c7b56",
   "metadata": {},
   "outputs": [],
   "source": [
    "df=pd.concat([df,sex,embarked,pclass], axis=1)"
   ]
  },
  {
   "cell_type": "code",
   "execution_count": 40,
   "id": "f8f22fde-3435-433a-8b73-3ca06bf721f9",
   "metadata": {},
   "outputs": [
    {
     "data": {
      "text/html": [
       "<div>\n",
       "<style scoped>\n",
       "    .dataframe tbody tr th:only-of-type {\n",
       "        vertical-align: middle;\n",
       "    }\n",
       "\n",
       "    .dataframe tbody tr th {\n",
       "        vertical-align: top;\n",
       "    }\n",
       "\n",
       "    .dataframe thead th {\n",
       "        text-align: right;\n",
       "    }\n",
       "</style>\n",
       "<table border=\"1\" class=\"dataframe\">\n",
       "  <thead>\n",
       "    <tr style=\"text-align: right;\">\n",
       "      <th></th>\n",
       "      <th>survived</th>\n",
       "      <th>age</th>\n",
       "      <th>sibsp</th>\n",
       "      <th>parch</th>\n",
       "      <th>fare</th>\n",
       "      <th>male</th>\n",
       "      <th>Q</th>\n",
       "      <th>S</th>\n",
       "      <th>2.0</th>\n",
       "      <th>3.0</th>\n",
       "    </tr>\n",
       "  </thead>\n",
       "  <tbody>\n",
       "    <tr>\n",
       "      <th>0</th>\n",
       "      <td>1.0</td>\n",
       "      <td>29.0000</td>\n",
       "      <td>0.0</td>\n",
       "      <td>0.0</td>\n",
       "      <td>211.3375</td>\n",
       "      <td>0</td>\n",
       "      <td>0</td>\n",
       "      <td>1</td>\n",
       "      <td>0</td>\n",
       "      <td>0</td>\n",
       "    </tr>\n",
       "    <tr>\n",
       "      <th>1</th>\n",
       "      <td>1.0</td>\n",
       "      <td>0.9167</td>\n",
       "      <td>1.0</td>\n",
       "      <td>2.0</td>\n",
       "      <td>151.5500</td>\n",
       "      <td>1</td>\n",
       "      <td>0</td>\n",
       "      <td>1</td>\n",
       "      <td>0</td>\n",
       "      <td>0</td>\n",
       "    </tr>\n",
       "  </tbody>\n",
       "</table>\n",
       "</div>"
      ],
      "text/plain": [
       "   survived      age  sibsp  parch      fare  male  Q  S  2.0  3.0\n",
       "0       1.0  29.0000    0.0    0.0  211.3375     0  0  1    0    0\n",
       "1       1.0   0.9167    1.0    2.0  151.5500     1  0  1    0    0"
      ]
     },
     "execution_count": 40,
     "metadata": {},
     "output_type": "execute_result"
    }
   ],
   "source": [
    "df.drop([\"name\",\"ticket\"], axis=1, inplace= True)\n",
    "df.head(2)"
   ]
  },
  {
   "cell_type": "code",
   "execution_count": null,
   "id": "dcd16301-0bd6-47a1-96c8-18bc4ccd6aab",
   "metadata": {},
   "outputs": [],
   "source": []
  },
  {
   "cell_type": "code",
   "execution_count": 13,
   "id": "21df71b4-8f75-4ae0-a810-36efa249034d",
   "metadata": {},
   "outputs": [],
   "source": [
    "X = df.drop(\"survived\", axis=1)\n",
    "y = df[\"survived\"]"
   ]
  },
  {
   "cell_type": "code",
   "execution_count": 14,
   "id": "7241d11a-1ce3-41c9-8c72-eee6d6db8fa9",
   "metadata": {},
   "outputs": [],
   "source": [
    "from sklearn.model_selection import train_test_split"
   ]
  },
  {
   "cell_type": "code",
   "execution_count": 15,
   "id": "93d925e6-ef7c-4639-9c36-a252cccd5c37",
   "metadata": {},
   "outputs": [],
   "source": [
    "X_train, X_test, y_train, y_test=train_test_split(X,y,test_size=0.25,random_state=100)"
   ]
  },
  {
   "cell_type": "code",
   "execution_count": null,
   "id": "46e08874-7a45-44e7-abbe-5f8872d10ee6",
   "metadata": {},
   "outputs": [],
   "source": [
    "#Binary Logistic Regression"
   ]
  },
  {
   "cell_type": "code",
   "execution_count": 16,
   "id": "7e9e932b-7f32-4031-9a18-6188624d2f2d",
   "metadata": {},
   "outputs": [],
   "source": [
    "from sklearn.linear_model import LogisticRegression"
   ]
  },
  {
   "cell_type": "code",
   "execution_count": 17,
   "id": "88531c36-f5ad-4185-9463-6836878b5c13",
   "metadata": {},
   "outputs": [],
   "source": [
    "lg_model=LogisticRegression(max_iter=1000)"
   ]
  },
  {
   "cell_type": "code",
   "execution_count": 18,
   "id": "ffb15cb3-f4e6-46e4-a488-f6e420effea9",
   "metadata": {},
   "outputs": [
    {
     "data": {
      "text/plain": [
       "LogisticRegression(max_iter=1000)"
      ]
     },
     "execution_count": 18,
     "metadata": {},
     "output_type": "execute_result"
    }
   ],
   "source": [
    "#modeli eğitme\n",
    "lg_model.fit(X_train,y_train)"
   ]
  },
  {
   "cell_type": "code",
   "execution_count": 19,
   "id": "61147768-7924-4490-9200-3aab2ee44c8a",
   "metadata": {},
   "outputs": [
    {
     "data": {
      "text/plain": [
       "0.7701149425287356"
      ]
     },
     "execution_count": 19,
     "metadata": {},
     "output_type": "execute_result"
    }
   ],
   "source": [
    "#modelin doğruluk skoru\n",
    "#%77 doğru biliyor\n",
    "lg_model.score(X_test,y_test)"
   ]
  },
  {
   "cell_type": "code",
   "execution_count": 20,
   "id": "3a6ebfbb-f0ea-4f75-a350-2568b99d8f5e",
   "metadata": {},
   "outputs": [
    {
     "data": {
      "text/plain": [
       "0.8069053708439897"
      ]
     },
     "execution_count": 20,
     "metadata": {},
     "output_type": "execute_result"
    }
   ],
   "source": [
    "#modelin eğitim verisi skoru\n",
    "#modelin eğitim ve test verisindeki skorların yakın olması daha iyi.\n",
    "#modelin eğitim verisindeki skoru daha yüksek.modelde aşırı uydurma problemi var.\n",
    "lg_model.score(X_train,y_train)"
   ]
  },
  {
   "cell_type": "code",
   "execution_count": 21,
   "id": "58d265ed-8079-4812-b265-8e4b99bca2e1",
   "metadata": {},
   "outputs": [
    {
     "data": {
      "text/plain": [
       "LogisticRegression(C=0.1, max_iter=1000)"
      ]
     },
     "execution_count": 21,
     "metadata": {},
     "output_type": "execute_result"
    }
   ],
   "source": [
    "#aşırı uydurmadan kurtulmak için C argümanı kullanılır.\n",
    "lg_model=LogisticRegression(C=0.1, max_iter=1000)\n",
    "lg_model.fit(X_train,y_train)"
   ]
  },
  {
   "cell_type": "code",
   "execution_count": 22,
   "id": "7eb5ad46-f527-4f89-a02d-d5173f7e1ef6",
   "metadata": {},
   "outputs": [
    {
     "name": "stdout",
     "output_type": "stream",
     "text": [
      "0.7816091954022989\n",
      "0.7953964194373402\n"
     ]
    }
   ],
   "source": [
    "print(lg_model.score(X_test,y_test))\n",
    "print(lg_model.score(X_train,y_train))"
   ]
  },
  {
   "cell_type": "code",
   "execution_count": 23,
   "id": "a5d27cc5-6190-4d01-af8b-5c3c4bcf511d",
   "metadata": {},
   "outputs": [],
   "source": [
    "#model değerlendirme"
   ]
  },
  {
   "cell_type": "code",
   "execution_count": 24,
   "id": "2885a763-10d4-4353-9a35-e28dc2243489",
   "metadata": {},
   "outputs": [],
   "source": [
    "tahmin = lg_model.predict(X_test)"
   ]
  },
  {
   "cell_type": "code",
   "execution_count": 25,
   "id": "31cb3b9d-fb3b-4ee9-859c-4def6a03b9d5",
   "metadata": {},
   "outputs": [
    {
     "data": {
      "text/plain": [
       "array([[124,  21],\n",
       "       [ 36,  80]], dtype=int64)"
      ]
     },
     "execution_count": 25,
     "metadata": {},
     "output_type": "execute_result"
    }
   ],
   "source": [
    "confusion_matrix(y_test,tahmin)"
   ]
  },
  {
   "cell_type": "code",
   "execution_count": 26,
   "id": "9a1d06e2-f6c9-4073-8048-7b1a21118fba",
   "metadata": {},
   "outputs": [
    {
     "data": {
      "text/html": [
       "<div>\n",
       "<style scoped>\n",
       "    .dataframe tbody tr th:only-of-type {\n",
       "        vertical-align: middle;\n",
       "    }\n",
       "\n",
       "    .dataframe tbody tr th {\n",
       "        vertical-align: top;\n",
       "    }\n",
       "\n",
       "    .dataframe thead th {\n",
       "        text-align: right;\n",
       "    }\n",
       "</style>\n",
       "<table border=\"1\" class=\"dataframe\">\n",
       "  <thead>\n",
       "    <tr style=\"text-align: right;\">\n",
       "      <th></th>\n",
       "      <th>survived</th>\n",
       "      <th>age</th>\n",
       "      <th>sibsp</th>\n",
       "      <th>parch</th>\n",
       "      <th>fare</th>\n",
       "      <th>male</th>\n",
       "      <th>Q</th>\n",
       "      <th>S</th>\n",
       "      <th>2.0</th>\n",
       "      <th>3.0</th>\n",
       "    </tr>\n",
       "  </thead>\n",
       "  <tbody>\n",
       "    <tr>\n",
       "      <th>0</th>\n",
       "      <td>1.0</td>\n",
       "      <td>29.0</td>\n",
       "      <td>0.0</td>\n",
       "      <td>0.0</td>\n",
       "      <td>211.3375</td>\n",
       "      <td>0</td>\n",
       "      <td>0</td>\n",
       "      <td>1</td>\n",
       "      <td>0</td>\n",
       "      <td>0</td>\n",
       "    </tr>\n",
       "  </tbody>\n",
       "</table>\n",
       "</div>"
      ],
      "text/plain": [
       "   survived   age  sibsp  parch      fare  male  Q  S  2.0  3.0\n",
       "0       1.0  29.0    0.0    0.0  211.3375     0  0  1    0    0"
      ]
     },
     "execution_count": 26,
     "metadata": {},
     "output_type": "execute_result"
    }
   ],
   "source": [
    "df.head(1)"
   ]
  },
  {
   "cell_type": "code",
   "execution_count": 27,
   "id": "6a82d838-f799-44b9-9bac-515b06e1b184",
   "metadata": {},
   "outputs": [],
   "source": [
    "#deneme\n",
    "yeni_veri=np.array([[29,0,0,211.3375,0,0,1,0,0]])"
   ]
  },
  {
   "cell_type": "code",
   "execution_count": 28,
   "id": "6d63eef6-577d-4ef4-b4df-b5e648737099",
   "metadata": {},
   "outputs": [
    {
     "data": {
      "text/plain": [
       "array([1.])"
      ]
     },
     "execution_count": 28,
     "metadata": {},
     "output_type": "execute_result"
    }
   ],
   "source": [
    "lg_model.predict(yeni_veri)"
   ]
  },
  {
   "cell_type": "code",
   "execution_count": null,
   "id": "d7d8738c-94a0-4cc6-8732-d30e7dc4dd3a",
   "metadata": {},
   "outputs": [],
   "source": []
  },
  {
   "cell_type": "code",
   "execution_count": null,
   "id": "315790aa-23e1-4add-9457-965cf4725e6f",
   "metadata": {},
   "outputs": [],
   "source": []
  }
 ],
 "metadata": {
  "kernelspec": {
   "display_name": "Python 3",
   "language": "python",
   "name": "python3"
  },
  "language_info": {
   "codemirror_mode": {
    "name": "ipython",
    "version": 3
   },
   "file_extension": ".py",
   "mimetype": "text/x-python",
   "name": "python",
   "nbconvert_exporter": "python",
   "pygments_lexer": "ipython3",
   "version": "3.8.8"
  }
 },
 "nbformat": 4,
 "nbformat_minor": 5
}
