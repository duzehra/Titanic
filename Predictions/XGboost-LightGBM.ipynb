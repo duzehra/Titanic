{
 "cells": [
  {
   "cell_type": "code",
   "execution_count": 6,
   "id": "3d79de70-7446-434a-b5ce-19361cbf449f",
   "metadata": {
    "jupyter": {
     "outputs_hidden": true
    },
    "tags": []
   },
   "outputs": [
    {
     "name": "stdout",
     "output_type": "stream",
     "text": [
      "Requirement already satisfied: lightgbm in c:\\users\\zehra\\anaconda3\\lib\\site-packages (3.2.1)Note: you may need to restart the kernel to use updated packages.\n",
      "Requirement already satisfied: numpy in c:\\users\\zehra\\anaconda3\\lib\\site-packages (from lightgbm) (1.20.1)\n",
      "Requirement already satisfied: scipy in c:\\users\\zehra\\anaconda3\\lib\\site-packages (from lightgbm) (1.6.2)\n",
      "Requirement already satisfied: wheel in c:\\users\\zehra\\anaconda3\\lib\\site-packages (from lightgbm) (0.36.2)\n",
      "Requirement already satisfied: scikit-learn!=0.22.0 in c:\\users\\zehra\\anaconda3\\lib\\site-packages (from lightgbm) (0.24.1)\n",
      "Requirement already satisfied: joblib>=0.11 in c:\\users\\zehra\\anaconda3\\lib\\site-packages (from scikit-learn!=0.22.0->lightgbm) (1.0.1)\n",
      "Requirement already satisfied: threadpoolctl>=2.0.0 in c:\\users\\zehra\\anaconda3\\lib\\site-packages (from scikit-learn!=0.22.0->lightgbm) (2.1.0)\n",
      "\n"
     ]
    }
   ],
   "source": [
    "pip install lightgbm"
   ]
  },
  {
   "cell_type": "code",
   "execution_count": 7,
   "id": "b3dda161-b286-48b1-95dd-ad98ca3eabdd",
   "metadata": {
    "tags": []
   },
   "outputs": [],
   "source": [
    "import pandas as pd\n",
    "import numpy as np\n",
    "import lightgbm as lgbm\n",
    "import matplotlib.pyplot as plt\n",
    "from sklearn.model_selection import train_test_split\n",
    "from sklearn.preprocessing import LabelEncoder\n",
    "from sklearn.metrics import accuracy_score, recall_score, precision_score, f1_score\n",
    "%matplotlib inline"
   ]
  },
  {
   "cell_type": "code",
   "execution_count": 8,
   "id": "77fa6842-4191-4e3a-9f1b-a457c427b702",
   "metadata": {},
   "outputs": [],
   "source": [
    "df_train = pd.read_csv(\"C:/Users/Zehra/Desktop/Python-SQL/train.csv\")\n",
    "df_test = pd.read_csv(\"C:/Users/Zehra/Desktop/Python-SQL/test.csv\")"
   ]
  },
  {
   "cell_type": "code",
   "execution_count": 9,
   "id": "c68b06ca-bcf5-4b93-a79a-8fa28a32e651",
   "metadata": {},
   "outputs": [],
   "source": [
    "test_passenger_ids = df_test.pop('PassengerId')\n",
    "df_train.drop(['PassengerId'], axis=1, inplace=True)"
   ]
  },
  {
   "cell_type": "code",
   "execution_count": 10,
   "id": "300e8241-783a-4c49-a841-a41449e0c11e",
   "metadata": {},
   "outputs": [
    {
     "data": {
      "text/plain": [
       "LabelEncoder()"
      ]
     },
     "execution_count": 10,
     "metadata": {},
     "output_type": "execute_result"
    }
   ],
   "source": [
    "embarked_encoder = LabelEncoder()\n",
    "embarked_encoder.fit(df_train['Embarked'].fillna('Null'))"
   ]
  },
  {
   "cell_type": "code",
   "execution_count": 11,
   "id": "caf8c3b5-0902-4900-a97b-f1d75e3d1f14",
   "metadata": {},
   "outputs": [],
   "source": [
    "df_list=[df_train, df_test]"
   ]
  },
  {
   "cell_type": "code",
   "execution_count": 12,
   "id": "f800a50b-1af4-4e68-8a18-1956bcefd1b6",
   "metadata": {},
   "outputs": [],
   "source": [
    "for df in df_list:\n",
    "\n",
    "    df['Alone'] = (df['SibSp'] == 0) & (df['Parch'] == 0)\n",
    "    \n",
    "    df['Embarked'].fillna('Null', inplace=True)\n",
    "    df['Embarked'] = embarked_encoder.transform(df['Embarked'])\n",
    "    \n",
    "    df.loc[df['Sex'] == 'female','Sex'] = 0\n",
    "    df.loc[df['Sex'] == 'male','Sex'] = 1\n",
    "    df['Sex'] = df['Sex'].astype('int8')\n",
    "    \n",
    "    df.drop(['Name', 'Ticket', 'Cabin'], axis=1, inplace=True)"
   ]
  },
  {
   "cell_type": "code",
   "execution_count": null,
   "id": "1d7982ac",
   "metadata": {},
   "outputs": [],
   "source": []
  },
  {
   "cell_type": "code",
   "execution_count": null,
   "id": "65ccb259",
   "metadata": {},
   "outputs": [],
   "source": [
    "#LightGBM Uygulaması"
   ]
  },
  {
   "cell_type": "code",
   "execution_count": 13,
   "id": "3909775e-ad00-4577-aa75-495d3b74012c",
   "metadata": {},
   "outputs": [],
   "source": [
    "y = df_train.pop('Survived')"
   ]
  },
  {
   "cell_type": "code",
   "execution_count": 14,
   "id": "d8db16cf-9279-4ab1-89c8-c99733310ca1",
   "metadata": {},
   "outputs": [],
   "source": [
    "X_train, X_test, y_train, y_test = train_test_split(df_train, y, test_size=0.2, random_state=42)"
   ]
  },
  {
   "cell_type": "code",
   "execution_count": 15,
   "id": "d999590f-d48a-48cb-ada5-04e3c0f16a71",
   "metadata": {},
   "outputs": [],
   "source": [
    "import lightgbm as lgb\n",
    "lgb_model = lgb.LGBMClassifier()"
   ]
  },
  {
   "cell_type": "code",
   "execution_count": 16,
   "id": "ac396264-f80a-477b-b74d-575d3218c169",
   "metadata": {},
   "outputs": [],
   "source": [
    "lgb_model.fit(X_train, y_train)\n",
    "lgb_acc = accuracy_score(y_test, lgb_model.predict(X_test))"
   ]
  },
  {
   "cell_type": "code",
   "execution_count": 17,
   "id": "98f6e3f7-008f-49a2-bc34-2537249ba881",
   "metadata": {},
   "outputs": [
    {
     "data": {
      "text/plain": [
       "0.8156424581005587"
      ]
     },
     "execution_count": 17,
     "metadata": {},
     "output_type": "execute_result"
    }
   ],
   "source": [
    "lgb_acc"
   ]
  },
  {
   "cell_type": "code",
   "execution_count": null,
   "id": "ae19ddde-4255-4943-945b-31c1638b33a5",
   "metadata": {},
   "outputs": [],
   "source": []
  },
  {
   "cell_type": "code",
   "execution_count": null,
   "id": "b0cf686a",
   "metadata": {},
   "outputs": [],
   "source": [
    "#XGBoost Uygulaması"
   ]
  },
  {
   "cell_type": "code",
   "execution_count": 18,
   "id": "0ecbf06f-9a98-4ae8-aa73-6da9c381ac23",
   "metadata": {
    "jupyter": {
     "outputs_hidden": true
    },
    "tags": []
   },
   "outputs": [
    {
     "name": "stderr",
     "output_type": "stream",
     "text": [
      "C:\\Users\\Zehra\\anaconda3\\lib\\site-packages\\xgboost\\sklearn.py:1146: UserWarning: The use of label encoder in XGBClassifier is deprecated and will be removed in a future release. To remove this warning, do the following: 1) Pass option use_label_encoder=False when constructing XGBClassifier object; and 2) Encode your labels (y) as integers starting with 0, i.e. 0, 1, 2, ..., [num_class - 1].\n",
      "  warnings.warn(label_encoder_deprecation_msg, UserWarning)\n"
     ]
    },
    {
     "name": "stdout",
     "output_type": "stream",
     "text": [
      "[15:21:16] WARNING: C:/Users/Administrator/workspace/xgboost-win64_release_1.4.0/src/learner.cc:1095: Starting in XGBoost 1.3.0, the default evaluation metric used with the objective 'binary:logistic' was changed from 'error' to 'logloss'. Explicitly set eval_metric if you'd like to restore the old behavior.\n"
     ]
    }
   ],
   "source": [
    "from xgboost import XGBClassifier\n",
    "xgb_model = XGBClassifier()\n",
    "xgb_model.fit(X_train, y_train)\n",
    "XGBoost_acc = accuracy_score(y_test, xgb_model.predict(X_test))"
   ]
  },
  {
   "cell_type": "code",
   "execution_count": 19,
   "id": "f7b49264-0fb6-4ca1-8494-e86eedf3cc1b",
   "metadata": {},
   "outputs": [
    {
     "data": {
      "text/plain": [
       "0.7988826815642458"
      ]
     },
     "execution_count": 19,
     "metadata": {},
     "output_type": "execute_result"
    }
   ],
   "source": [
    "XGBoost_acc"
   ]
  },
  {
   "cell_type": "code",
   "execution_count": null,
   "id": "b6535752",
   "metadata": {},
   "outputs": [],
   "source": []
  },
  {
   "cell_type": "code",
   "execution_count": null,
   "id": "34b80b9f",
   "metadata": {},
   "outputs": [],
   "source": []
  },
  {
   "cell_type": "code",
   "execution_count": null,
   "id": "19cf490c",
   "metadata": {},
   "outputs": [],
   "source": []
  },
  {
   "cell_type": "code",
   "execution_count": null,
   "id": "2f4fdab5",
   "metadata": {},
   "outputs": [],
   "source": []
  },
  {
   "cell_type": "code",
   "execution_count": null,
   "id": "e8d84bff",
   "metadata": {},
   "outputs": [],
   "source": []
  },
  {
   "cell_type": "code",
   "execution_count": 31,
   "id": "177b7d65",
   "metadata": {},
   "outputs": [],
   "source": []
  },
  {
   "cell_type": "code",
   "execution_count": null,
   "id": "ccff9aa9",
   "metadata": {},
   "outputs": [],
   "source": []
  }
 ],
 "metadata": {
  "kernelspec": {
   "display_name": "Python 3",
   "language": "python",
   "name": "python3"
  },
  "language_info": {
   "codemirror_mode": {
    "name": "ipython",
    "version": 3
   },
   "file_extension": ".py",
   "mimetype": "text/x-python",
   "name": "python",
   "nbconvert_exporter": "python",
   "pygments_lexer": "ipython3",
   "version": "3.8.8"
  }
 },
 "nbformat": 4,
 "nbformat_minor": 5
}
